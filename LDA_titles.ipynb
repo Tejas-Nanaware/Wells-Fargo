{
 "cells": [
  {
   "cell_type": "code",
   "execution_count": 1,
   "metadata": {},
   "outputs": [],
   "source": [
    "import numpy as np\n",
    "import pandas as pd\n",
    "from collections import Counter"
   ]
  },
  {
   "cell_type": "code",
   "execution_count": 16,
   "metadata": {},
   "outputs": [],
   "source": [
    "data = pd.read_csv(\"data.tsv\", delimiter= \"\\t\")\n",
    "title = list(data[\"title\"])"
   ]
  },
  {
   "cell_type": "code",
   "execution_count": 18,
   "metadata": {},
   "outputs": [
    {
     "name": "stderr",
     "output_type": "stream",
     "text": [
      "[nltk_data] Downloading package wordnet to\n",
      "[nltk_data]     C:\\Users\\nikhi\\AppData\\Roaming\\nltk_data...\n",
      "[nltk_data]   Unzipping corpora\\wordnet.zip.\n"
     ]
    },
    {
     "data": {
      "text/plain": [
       "True"
      ]
     },
     "execution_count": 18,
     "metadata": {},
     "output_type": "execute_result"
    }
   ],
   "source": [
    "import gensim\n",
    "from gensim.utils import simple_preprocess\n",
    "from gensim.parsing.preprocessing import STOPWORDS\n",
    "from nltk.stem import WordNetLemmatizer, SnowballStemmer\n",
    "from nltk import PorterStemmer\n",
    "import numpy as np\n",
    "np.random.seed(2018)\n",
    "import nltk"
   ]
  },
  {
   "cell_type": "code",
   "execution_count": 20,
   "metadata": {},
   "outputs": [],
   "source": [
    "def lemmatize_stemming(text):\n",
    "    return PorterStemmer().stem(WordNetLemmatizer().lemmatize(text, pos='v'))\n",
    "def preprocess(text):\n",
    "    result = []\n",
    "    for token in gensim.utils.simple_preprocess(text):\n",
    "        if token not in gensim.parsing.preprocessing.STOPWORDS and len(token) > 3:\n",
    "            result.append(lemmatize_stemming(token))\n",
    "    return result"
   ]
  },
  {
   "cell_type": "code",
   "execution_count": 21,
   "metadata": {},
   "outputs": [
    {
     "name": "stdout",
     "output_type": "stream",
     "text": [
      "original document: \n",
      "['Novel', 'Hybrid', 'Propulsion', 'System', 'for', 'Sample', 'Return', 'Missions,', 'Phase', 'I']\n",
      "\n",
      "\n",
      " tokenized and lemmatized document: \n",
      "['novel', 'hybrid', 'propuls', 'sampl', 'return', 'mission', 'phase']\n"
     ]
    }
   ],
   "source": [
    "sample = title[0]\n",
    "print('original document: ')\n",
    "words = []\n",
    "for word in sample.split():\n",
    "    words.append(word)\n",
    "print(words)\n",
    "print('\\n\\n tokenized and lemmatized document: ')\n",
    "print(preprocess(sample))"
   ]
  },
  {
   "cell_type": "code",
   "execution_count": 22,
   "metadata": {},
   "outputs": [
    {
     "data": {
      "text/plain": [
       "0    [novel, hybrid, propuls, sampl, return, missio...\n",
       "1      [phoenix, mar, meteorolog, pressur, temperatur]\n",
       "2              [flash, lidaral, weathr, safeti, phase]\n",
       "3    [level, almucantar, invers, product, phase, fu...\n",
       "4    [collabor, outbound, taxi, meter, environment,...\n",
       "5        [method, produc, launch, land, pad, structur]\n",
       "6    [high, perform, miniatur, bandpass, filter, ph...\n",
       "7                [comet, surfac, sampl, return, phase]\n",
       "8    [regener, sorbent, combin, water, trace, conta...\n",
       "9     [quantum, calorimet, base, hgcdte, alloy, phase]\n",
       "Name: title, dtype: object"
      ]
     },
     "execution_count": 22,
     "metadata": {},
     "output_type": "execute_result"
    }
   ],
   "source": [
    "processed_docs = data['title'].map(preprocess)\n",
    "processed_docs[:10]"
   ]
  },
  {
   "cell_type": "code",
   "execution_count": 23,
   "metadata": {},
   "outputs": [
    {
     "name": "stdout",
     "output_type": "stream",
     "text": [
      "0 hybrid\n",
      "1 mission\n",
      "2 novel\n",
      "3 phase\n",
      "4 propuls\n",
      "5 return\n",
      "6 sampl\n",
      "7 mar\n",
      "8 meteorolog\n",
      "9 phoenix\n",
      "10 pressur\n"
     ]
    }
   ],
   "source": [
    "dictionary = gensim.corpora.Dictionary(processed_docs)\n",
    "count = 0\n",
    "for k, v in dictionary.iteritems():\n",
    "    print(k, v)\n",
    "    count += 1\n",
    "    if count > 10:\n",
    "        break"
   ]
  },
  {
   "cell_type": "code",
   "execution_count": 24,
   "metadata": {},
   "outputs": [],
   "source": [
    "dictionary.filter_extremes(no_below=15, no_above=0.5, keep_n=100000)"
   ]
  },
  {
   "cell_type": "code",
   "execution_count": 26,
   "metadata": {},
   "outputs": [
    {
     "data": {
      "text/plain": [
       "[(0, 1), (1, 1), (2, 1), (3, 1), (4, 1), (5, 1), (6, 1)]"
      ]
     },
     "execution_count": 26,
     "metadata": {},
     "output_type": "execute_result"
    }
   ],
   "source": [
    "bow_corpus = [dictionary.doc2bow(doc) for doc in processed_docs]\n",
    "bow_corpus[0]"
   ]
  },
  {
   "cell_type": "code",
   "execution_count": 30,
   "metadata": {},
   "outputs": [
    {
     "name": "stdout",
     "output_type": "stream",
     "text": [
      "A Hardware/Software Design Environment for Reconfigurable Communication Systems, Phase I\n",
      "Word 3 (\"phase\") appears 1 time.\n",
      "Word 173 (\"softwar\") appears 1 time.\n",
      "Word 195 (\"reconfigur\") appears 1 time.\n",
      "Word 203 (\"commun\") appears 1 time.\n",
      "Word 227 (\"system\") appears 1 time.\n",
      "Word 257 (\"environ\") appears 1 time.\n",
      "Word 306 (\"design\") appears 1 time.\n",
      "Word 333 (\"hardwar\") appears 1 time.\n"
     ]
    }
   ],
   "source": [
    "bow_doc_4310 = bow_corpus[100]\n",
    "for i in range(len(bow_doc_4310)):\n",
    "    print(\"Word {} (\\\"{}\\\") appears {} time.\".format(bow_doc_4310[i][0], \n",
    "                                               dictionary[bow_doc_4310[i][0]], \n",
    "bow_doc_4310[i][1]))"
   ]
  },
  {
   "cell_type": "code",
   "execution_count": 31,
   "metadata": {},
   "outputs": [
    {
     "name": "stdout",
     "output_type": "stream",
     "text": [
      "[(0, 0.40808197922233364),\n",
      " (1, 0.3539634277828854),\n",
      " (2, 0.3735843786208337),\n",
      " (3, 0.08770722615074826),\n",
      " (4, 0.36307211939500383),\n",
      " (5, 0.5102451453796853),\n",
      " (6, 0.41079151925530766)]\n"
     ]
    }
   ],
   "source": [
    "from gensim import corpora, models\n",
    "tfidf = models.TfidfModel(bow_corpus)\n",
    "corpus_tfidf = tfidf[bow_corpus]\n",
    "from pprint import pprint\n",
    "for doc in corpus_tfidf:\n",
    "    pprint(doc)\n",
    "    break"
   ]
  },
  {
   "cell_type": "code",
   "execution_count": 32,
   "metadata": {},
   "outputs": [],
   "source": [
    "lda_model = gensim.models.LdaMulticore(bow_corpus, num_topics=10, id2word=dictionary, passes=2, workers=2)"
   ]
  },
  {
   "cell_type": "code",
   "execution_count": 33,
   "metadata": {},
   "outputs": [
    {
     "name": "stdout",
     "output_type": "stream",
     "text": [
      "Topic: 0 \n",
      "Words: 0.073*\"phase\" + 0.028*\"modi\" + 0.027*\"time\" + 0.018*\"precipit\" + 0.017*\"real\" + 0.015*\"radiomet\" + 0.014*\"analysi\" + 0.013*\"base\" + 0.010*\"cloud\" + 0.010*\"data\"\n",
      "Topic: 1 \n",
      "Words: 0.050*\"phase\" + 0.034*\"level\" + 0.028*\"imag\" + 0.020*\"planetari\" + 0.015*\"gazett\" + 0.015*\"nomenclatur\" + 0.013*\"product\" + 0.013*\"measur\" + 0.011*\"radianc\" + 0.011*\"data\"\n",
      "Topic: 2 \n",
      "Words: 0.078*\"data\" + 0.052*\"orbit\" + 0.036*\"disc\" + 0.031*\"rosetta\" + 0.025*\"degre\" + 0.021*\"aura\" + 0.020*\"profil\" + 0.019*\"observ\" + 0.017*\"mean\" + 0.017*\"imag\"\n",
      "Topic: 3 \n",
      "Words: 0.066*\"phase\" + 0.019*\"space\" + 0.018*\"high\" + 0.016*\"technolog\" + 0.013*\"life\" + 0.011*\"laser\" + 0.011*\"develop\" + 0.010*\"encount\" + 0.010*\"power\" + 0.009*\"explor\"\n",
      "Topic: 4 \n",
      "Words: 0.027*\"aqua\" + 0.024*\"disc\" + 0.023*\"phase\" + 0.021*\"model\" + 0.021*\"degre\" + 0.020*\"grid\" + 0.019*\"global\" + 0.019*\"temperatur\" + 0.018*\"radiat\" + 0.017*\"daili\"\n",
      "Topic: 5 \n",
      "Words: 0.110*\"phase\" + 0.027*\"sensor\" + 0.015*\"optic\" + 0.015*\"lunar\" + 0.014*\"measur\" + 0.011*\"environ\" + 0.009*\"data\" + 0.008*\"magnet\" + 0.008*\"space\" + 0.008*\"carbon\"\n",
      "Topic: 6 \n",
      "Words: 0.069*\"phase\" + 0.018*\"array\" + 0.016*\"imag\" + 0.015*\"infrar\" + 0.014*\"flight\" + 0.013*\"deriv\" + 0.013*\"data\" + 0.009*\"model\" + 0.009*\"robot\" + 0.009*\"near\"\n",
      "Topic: 7 \n",
      "Words: 0.119*\"phase\" + 0.039*\"high\" + 0.017*\"space\" + 0.013*\"base\" + 0.013*\"applic\" + 0.011*\"perform\" + 0.011*\"integr\" + 0.011*\"effici\" + 0.010*\"composit\" + 0.010*\"thermal\"\n",
      "Topic: 8 \n",
      "Words: 0.044*\"data\" + 0.037*\"global\" + 0.026*\"surfac\" + 0.023*\"project\" + 0.021*\"version\" + 0.020*\"terra\" + 0.019*\"academi\" + 0.018*\"mar\" + 0.017*\"program\" + 0.016*\"phase\"\n",
      "Topic: 9 \n",
      "Words: 0.052*\"podaac\" + 0.036*\"model\" + 0.030*\"grind\" + 0.027*\"version\" + 0.026*\"data\" + 0.022*\"valid\" + 0.022*\"nasa\" + 0.018*\"satellit\" + 0.017*\"test\" + 0.016*\"turbul\"\n"
     ]
    }
   ],
   "source": [
    "# using lda directly with word corpus\n",
    "for idx, topic in lda_model.print_topics(-1):\n",
    "    print('Topic: {} \\nWords: {}'.format(idx, topic))"
   ]
  },
  {
   "cell_type": "code",
   "execution_count": 34,
   "metadata": {},
   "outputs": [
    {
     "name": "stdout",
     "output_type": "stream",
     "text": [
      "Topic: 0 Word: 0.026*\"phase\" + 0.013*\"high\" + 0.009*\"power\" + 0.009*\"control\" + 0.008*\"lightweight\" + 0.008*\"manag\" + 0.007*\"solar\" + 0.007*\"base\" + 0.007*\"advanc\" + 0.007*\"batteri\"\n",
      "Topic: 1 Word: 0.017*\"data\" + 0.016*\"planetari\" + 0.012*\"nomenclatur\" + 0.012*\"gazett\" + 0.012*\"phase\" + 0.009*\"explor\" + 0.008*\"mar\" + 0.008*\"catalog\" + 0.008*\"dictionari\" + 0.007*\"releas\"\n",
      "Topic: 2 Word: 0.015*\"phase\" + 0.013*\"high\" + 0.013*\"surfac\" + 0.012*\"modi\" + 0.011*\"global\" + 0.010*\"grid\" + 0.009*\"daili\" + 0.009*\"aqua\" + 0.009*\"soil\" + 0.009*\"terra\"\n",
      "Topic: 3 Word: 0.095*\"podaac\" + 0.019*\"phase\" + 0.013*\"model\" + 0.012*\"imag\" + 0.012*\"nasa\" + 0.007*\"monitor\" + 0.007*\"space\" + 0.007*\"manufactur\" + 0.006*\"data\" + 0.005*\"tempel\"\n",
      "Topic: 4 Word: 0.018*\"degre\" + 0.015*\"disc\" + 0.014*\"data\" + 0.010*\"phase\" + 0.009*\"grind\" + 0.009*\"time\" + 0.008*\"level\" + 0.008*\"mean\" + 0.008*\"valid\" + 0.008*\"scienc\"\n",
      "Topic: 5 Word: 0.016*\"data\" + 0.014*\"phase\" + 0.011*\"aura\" + 0.010*\"level\" + 0.008*\"borea\" + 0.007*\"calipso\" + 0.007*\"lidar\" + 0.006*\"navig\" + 0.006*\"deriv\" + 0.006*\"disc\"\n",
      "Topic: 6 Word: 0.023*\"rosetta\" + 0.023*\"orbit\" + 0.016*\"podaac\" + 0.012*\"phase\" + 0.008*\"data\" + 0.008*\"mar\" + 0.007*\"resampl\" + 0.007*\"modsa\" + 0.006*\"comet\" + 0.006*\"version\"\n",
      "Topic: 7 Word: 0.026*\"data\" + 0.024*\"cassini\" + 0.012*\"model\" + 0.012*\"asteroid\" + 0.011*\"phase\" + 0.011*\"turbul\" + 0.008*\"forest\" + 0.008*\"flow\" + 0.008*\"radar\" + 0.008*\"cruis\"\n",
      "Topic: 8 Word: 0.017*\"phase\" + 0.011*\"academi\" + 0.008*\"program\" + 0.008*\"engin\" + 0.008*\"high\" + 0.008*\"space\" + 0.007*\"leadership\" + 0.007*\"project\" + 0.007*\"issu\" + 0.007*\"past\"\n",
      "Topic: 9 Word: 0.015*\"phase\" + 0.014*\"earth\" + 0.010*\"version\" + 0.009*\"spectra\" + 0.007*\"vehicl\" + 0.007*\"measur\" + 0.007*\"design\" + 0.007*\"launch\" + 0.007*\"scienc\" + 0.007*\"analysi\"\n"
     ]
    }
   ],
   "source": [
    "# using lda with tfidf\n",
    "lda_model_tfidf = gensim.models.LdaMulticore(corpus_tfidf, num_topics=10, id2word=dictionary, passes=2, workers=4)\n",
    "for idx, topic in lda_model_tfidf.print_topics(-1):\n",
    "    print('Topic: {} Word: {}'.format(idx, topic))"
   ]
  },
  {
   "cell_type": "code",
   "execution_count": 39,
   "metadata": {},
   "outputs": [
    {
     "name": "stdout",
     "output_type": "stream",
     "text": [
      "Behavioral Monitoring and Evaluation for the Delivery of Interactive Cognitive Behavioral Therapy (B-MEDIC), Phase I\n",
      "\n",
      "Score: 0.5008535385131836\t \n",
      "Topic: 0.050*\"phase\" + 0.034*\"level\" + 0.028*\"imag\" + 0.020*\"planetari\" + 0.015*\"gazett\" + 0.015*\"nomenclatur\" + 0.013*\"product\" + 0.013*\"measur\" + 0.011*\"radianc\" + 0.011*\"data\"\n",
      "\n",
      "Score: 0.41910529136657715\t \n",
      "Topic: 0.066*\"phase\" + 0.019*\"space\" + 0.018*\"high\" + 0.016*\"technolog\" + 0.013*\"life\" + 0.011*\"laser\" + 0.011*\"develop\" + 0.010*\"encount\" + 0.010*\"power\" + 0.009*\"explor\"\n",
      "\n",
      "Score: 0.010009195655584335\t \n",
      "Topic: 0.110*\"phase\" + 0.027*\"sensor\" + 0.015*\"optic\" + 0.015*\"lunar\" + 0.014*\"measur\" + 0.011*\"environ\" + 0.009*\"data\" + 0.008*\"magnet\" + 0.008*\"space\" + 0.008*\"carbon\"\n",
      "\n",
      "Score: 0.010006414726376534\t \n",
      "Topic: 0.052*\"podaac\" + 0.036*\"model\" + 0.030*\"grind\" + 0.027*\"version\" + 0.026*\"data\" + 0.022*\"valid\" + 0.022*\"nasa\" + 0.018*\"satellit\" + 0.017*\"test\" + 0.016*\"turbul\"\n",
      "\n",
      "Score: 0.010005177929997444\t \n",
      "Topic: 0.119*\"phase\" + 0.039*\"high\" + 0.017*\"space\" + 0.013*\"base\" + 0.013*\"applic\" + 0.011*\"perform\" + 0.011*\"integr\" + 0.011*\"effici\" + 0.010*\"composit\" + 0.010*\"thermal\"\n",
      "\n",
      "Score: 0.0100047392770648\t \n",
      "Topic: 0.069*\"phase\" + 0.018*\"array\" + 0.016*\"imag\" + 0.015*\"infrar\" + 0.014*\"flight\" + 0.013*\"deriv\" + 0.013*\"data\" + 0.009*\"model\" + 0.009*\"robot\" + 0.009*\"near\"\n",
      "\n",
      "Score: 0.010004344396293163\t \n",
      "Topic: 0.073*\"phase\" + 0.028*\"modi\" + 0.027*\"time\" + 0.018*\"precipit\" + 0.017*\"real\" + 0.015*\"radiomet\" + 0.014*\"analysi\" + 0.013*\"base\" + 0.010*\"cloud\" + 0.010*\"data\"\n",
      "\n",
      "Score: 0.010003946721553802\t \n",
      "Topic: 0.027*\"aqua\" + 0.024*\"disc\" + 0.023*\"phase\" + 0.021*\"model\" + 0.021*\"degre\" + 0.020*\"grid\" + 0.019*\"global\" + 0.019*\"temperatur\" + 0.018*\"radiat\" + 0.017*\"daili\"\n",
      "\n",
      "Score: 0.01000378467142582\t \n",
      "Topic: 0.044*\"data\" + 0.037*\"global\" + 0.026*\"surfac\" + 0.023*\"project\" + 0.021*\"version\" + 0.020*\"terra\" + 0.019*\"academi\" + 0.018*\"mar\" + 0.017*\"program\" + 0.016*\"phase\"\n",
      "\n",
      "Score: 0.01000355277210474\t \n",
      "Topic: 0.078*\"data\" + 0.052*\"orbit\" + 0.036*\"disc\" + 0.031*\"rosetta\" + 0.025*\"degre\" + 0.021*\"aura\" + 0.020*\"profil\" + 0.019*\"observ\" + 0.017*\"mean\" + 0.017*\"imag\"\n"
     ]
    }
   ],
   "source": [
    "print(title[10])\n",
    "for index, score in sorted(lda_model[bow_corpus[10]], key=lambda tup: -1*tup[1]):\n",
    "    print(\"\\nScore: {}\\t \\nTopic: {}\".format(score, lda_model.print_topic(index, 10)))"
   ]
  },
  {
   "cell_type": "code",
   "execution_count": 38,
   "metadata": {},
   "outputs": [
    {
     "name": "stdout",
     "output_type": "stream",
     "text": [
      "Novel Hybrid Propulsion System for Sample Return Missions, Phase I\n",
      "\n",
      "Score: 0.8874763250350952\t \n",
      "Topic: 0.073*\"phase\" + 0.028*\"modi\" + 0.027*\"time\" + 0.018*\"precipit\" + 0.017*\"real\" + 0.015*\"radiomet\" + 0.014*\"analysi\" + 0.013*\"base\" + 0.010*\"cloud\" + 0.010*\"data\"\n",
      "\n",
      "Score: 0.0125048803165555\t \n",
      "Topic: 0.069*\"phase\" + 0.018*\"array\" + 0.016*\"imag\" + 0.015*\"infrar\" + 0.014*\"flight\" + 0.013*\"deriv\" + 0.013*\"data\" + 0.009*\"model\" + 0.009*\"robot\" + 0.009*\"near\"\n",
      "\n",
      "Score: 0.012503189034759998\t \n",
      "Topic: 0.050*\"phase\" + 0.034*\"level\" + 0.028*\"imag\" + 0.020*\"planetari\" + 0.015*\"gazett\" + 0.015*\"nomenclatur\" + 0.013*\"product\" + 0.013*\"measur\" + 0.011*\"radianc\" + 0.011*\"data\"\n",
      "\n",
      "Score: 0.012502888217568398\t \n",
      "Topic: 0.078*\"data\" + 0.052*\"orbit\" + 0.036*\"disc\" + 0.031*\"rosetta\" + 0.025*\"degre\" + 0.021*\"aura\" + 0.020*\"profil\" + 0.019*\"observ\" + 0.017*\"mean\" + 0.017*\"imag\"\n",
      "\n",
      "Score: 0.01250247098505497\t \n",
      "Topic: 0.044*\"data\" + 0.037*\"global\" + 0.026*\"surfac\" + 0.023*\"project\" + 0.021*\"version\" + 0.020*\"terra\" + 0.019*\"academi\" + 0.018*\"mar\" + 0.017*\"program\" + 0.016*\"phase\"\n",
      "\n",
      "Score: 0.012502403929829597\t \n",
      "Topic: 0.066*\"phase\" + 0.019*\"space\" + 0.018*\"high\" + 0.016*\"technolog\" + 0.013*\"life\" + 0.011*\"laser\" + 0.011*\"develop\" + 0.010*\"encount\" + 0.010*\"power\" + 0.009*\"explor\"\n",
      "\n",
      "Score: 0.012502240017056465\t \n",
      "Topic: 0.110*\"phase\" + 0.027*\"sensor\" + 0.015*\"optic\" + 0.015*\"lunar\" + 0.014*\"measur\" + 0.011*\"environ\" + 0.009*\"data\" + 0.008*\"magnet\" + 0.008*\"space\" + 0.008*\"carbon\"\n",
      "\n",
      "Score: 0.012502161785960197\t \n",
      "Topic: 0.052*\"podaac\" + 0.036*\"model\" + 0.030*\"grind\" + 0.027*\"version\" + 0.026*\"data\" + 0.022*\"valid\" + 0.022*\"nasa\" + 0.018*\"satellit\" + 0.017*\"test\" + 0.016*\"turbul\"\n",
      "\n",
      "Score: 0.012501902878284454\t \n",
      "Topic: 0.027*\"aqua\" + 0.024*\"disc\" + 0.023*\"phase\" + 0.021*\"model\" + 0.021*\"degre\" + 0.020*\"grid\" + 0.019*\"global\" + 0.019*\"temperatur\" + 0.018*\"radiat\" + 0.017*\"daili\"\n",
      "\n",
      "Score: 0.012501540593802929\t \n",
      "Topic: 0.119*\"phase\" + 0.039*\"high\" + 0.017*\"space\" + 0.013*\"base\" + 0.013*\"applic\" + 0.011*\"perform\" + 0.011*\"integr\" + 0.011*\"effici\" + 0.010*\"composit\" + 0.010*\"thermal\"\n"
     ]
    }
   ],
   "source": [
    "print(title[0])\n",
    "for index, score in sorted(lda_model_tfidf[bow_corpus[0]], key=lambda tup: -1*tup[1]):\n",
    "    print(\"\\nScore: {}\\t \\nTopic: {}\".format(score, lda_model.print_topic(index, 10)))"
   ]
  },
  {
   "cell_type": "code",
   "execution_count": null,
   "metadata": {},
   "outputs": [],
   "source": []
  }
 ],
 "metadata": {
  "kernelspec": {
   "display_name": "Python 3",
   "language": "python",
   "name": "python3"
  },
  "language_info": {
   "codemirror_mode": {
    "name": "ipython",
    "version": 3
   },
   "file_extension": ".py",
   "mimetype": "text/x-python",
   "name": "python",
   "nbconvert_exporter": "python",
   "pygments_lexer": "ipython3",
   "version": "3.7.3"
  }
 },
 "nbformat": 4,
 "nbformat_minor": 2
}
