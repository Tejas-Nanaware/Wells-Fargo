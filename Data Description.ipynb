{
 "cells": [
  {
   "cell_type": "code",
   "execution_count": 1,
   "metadata": {},
   "outputs": [],
   "source": [
    "import numpy as np\n",
    "import pandas as pd\n",
    "import seaborn as sns"
   ]
  },
  {
   "cell_type": "code",
   "execution_count": 18,
   "metadata": {},
   "outputs": [],
   "source": [
    "data = pd.read_csv('./data.tsv', sep='\\t', index_col='id')"
   ]
  },
  {
   "cell_type": "code",
   "execution_count": 19,
   "metadata": {},
   "outputs": [
    {
     "data": {
      "text/html": [
       "<div>\n",
       "<style scoped>\n",
       "    .dataframe tbody tr th:only-of-type {\n",
       "        vertical-align: middle;\n",
       "    }\n",
       "\n",
       "    .dataframe tbody tr th {\n",
       "        vertical-align: top;\n",
       "    }\n",
       "\n",
       "    .dataframe thead th {\n",
       "        text-align: right;\n",
       "    }\n",
       "</style>\n",
       "<table border=\"1\" class=\"dataframe\">\n",
       "  <thead>\n",
       "    <tr style=\"text-align: right;\">\n",
       "      <th></th>\n",
       "      <th>title</th>\n",
       "      <th>issued</th>\n",
       "      <th>modified</th>\n",
       "      <th>description</th>\n",
       "    </tr>\n",
       "    <tr>\n",
       "      <th>id</th>\n",
       "      <th></th>\n",
       "      <th></th>\n",
       "      <th></th>\n",
       "      <th></th>\n",
       "    </tr>\n",
       "  </thead>\n",
       "  <tbody>\n",
       "    <tr>\n",
       "      <td>12289</td>\n",
       "      <td>Novel Hybrid Propulsion System for Sample Retu...</td>\n",
       "      <td>2016-12-01</td>\n",
       "      <td>2018-07-19</td>\n",
       "      <td>xxxxxxbilis xxxxxx Technologies is pleased to ...</td>\n",
       "    </tr>\n",
       "    <tr>\n",
       "      <td>12290</td>\n",
       "      <td>PHOENIX MARS METEOROLOGICAL PRESSURE / TEMPERA...</td>\n",
       "      <td>2018-06-26</td>\n",
       "      <td>2018-07-19</td>\n",
       "      <td>The PHX METEOROLOGICAL DATA product contains p...</td>\n",
       "    </tr>\n",
       "    <tr>\n",
       "      <td>12291</td>\n",
       "      <td>3D Flash LIDARAll Weathr Safety, Phase I</td>\n",
       "      <td>2015-12-01</td>\n",
       "      <td>2018-07-19</td>\n",
       "      <td>ASC has developed non-scanning 3D xxxxxxTM ima...</td>\n",
       "    </tr>\n",
       "    <tr>\n",
       "      <td>12292</td>\n",
       "      <td>Level 2.0 Almucantar Inversion Products (excep...</td>\n",
       "      <td>2018-06-25</td>\n",
       "      <td>2018-07-19</td>\n",
       "      <td>xxxxxxNET inversion code provides aerosoloptic...</td>\n",
       "    </tr>\n",
       "    <tr>\n",
       "      <td>12293</td>\n",
       "      <td>Collaborative Outbound Taxi Metering for Envir...</td>\n",
       "      <td>2008-07-01</td>\n",
       "      <td>2018-07-19</td>\n",
       "      <td>This proposal addresses the concept of Collabo...</td>\n",
       "    </tr>\n",
       "  </tbody>\n",
       "</table>\n",
       "</div>"
      ],
      "text/plain": [
       "                                                   title      issued  \\\n",
       "id                                                                     \n",
       "12289  Novel Hybrid Propulsion System for Sample Retu...  2016-12-01   \n",
       "12290  PHOENIX MARS METEOROLOGICAL PRESSURE / TEMPERA...  2018-06-26   \n",
       "12291           3D Flash LIDARAll Weathr Safety, Phase I  2015-12-01   \n",
       "12292  Level 2.0 Almucantar Inversion Products (excep...  2018-06-25   \n",
       "12293  Collaborative Outbound Taxi Metering for Envir...  2008-07-01   \n",
       "\n",
       "         modified                                        description  \n",
       "id                                                                    \n",
       "12289  2018-07-19  xxxxxxbilis xxxxxx Technologies is pleased to ...  \n",
       "12290  2018-07-19  The PHX METEOROLOGICAL DATA product contains p...  \n",
       "12291  2018-07-19  ASC has developed non-scanning 3D xxxxxxTM ima...  \n",
       "12292  2018-07-19  xxxxxxNET inversion code provides aerosoloptic...  \n",
       "12293  2018-07-19  This proposal addresses the concept of Collabo...  "
      ]
     },
     "execution_count": 19,
     "metadata": {},
     "output_type": "execute_result"
    }
   ],
   "source": [
    "data.head()"
   ]
  },
  {
   "cell_type": "code",
   "execution_count": 20,
   "metadata": {},
   "outputs": [
    {
     "name": "stdout",
     "output_type": "stream",
     "text": [
      "<class 'pandas.core.frame.DataFrame'>\n",
      "Index: 24356 entries, 12289 to 12288\n",
      "Data columns (total 4 columns):\n",
      "title          24356 non-null object\n",
      "issued         24356 non-null object\n",
      "modified       24356 non-null object\n",
      "description    24289 non-null object\n",
      "dtypes: object(4)\n",
      "memory usage: 951.4+ KB\n"
     ]
    }
   ],
   "source": [
    "data.info()"
   ]
  },
  {
   "cell_type": "code",
   "execution_count": 21,
   "metadata": {},
   "outputs": [
    {
     "data": {
      "text/html": [
       "<div>\n",
       "<style scoped>\n",
       "    .dataframe tbody tr th:only-of-type {\n",
       "        vertical-align: middle;\n",
       "    }\n",
       "\n",
       "    .dataframe tbody tr th {\n",
       "        vertical-align: top;\n",
       "    }\n",
       "\n",
       "    .dataframe thead th {\n",
       "        text-align: right;\n",
       "    }\n",
       "</style>\n",
       "<table border=\"1\" class=\"dataframe\">\n",
       "  <thead>\n",
       "    <tr style=\"text-align: right;\">\n",
       "      <th></th>\n",
       "      <th>title</th>\n",
       "      <th>issued</th>\n",
       "      <th>modified</th>\n",
       "      <th>description</th>\n",
       "    </tr>\n",
       "  </thead>\n",
       "  <tbody>\n",
       "    <tr>\n",
       "      <td>count</td>\n",
       "      <td>24356</td>\n",
       "      <td>24356</td>\n",
       "      <td>24356</td>\n",
       "      <td>24289</td>\n",
       "    </tr>\n",
       "    <tr>\n",
       "      <td>unique</td>\n",
       "      <td>23654</td>\n",
       "      <td>2195</td>\n",
       "      <td>1244</td>\n",
       "      <td>21348</td>\n",
       "    </tr>\n",
       "    <tr>\n",
       "      <td>top</td>\n",
       "      <td>Gazetteer of Planetary Nomenclature</td>\n",
       "      <td>2018-06-26</td>\n",
       "      <td>2018-07-19</td>\n",
       "      <td>not applicable</td>\n",
       "    </tr>\n",
       "    <tr>\n",
       "      <td>freq</td>\n",
       "      <td>81</td>\n",
       "      <td>2923</td>\n",
       "      <td>13488</td>\n",
       "      <td>265</td>\n",
       "    </tr>\n",
       "  </tbody>\n",
       "</table>\n",
       "</div>"
      ],
      "text/plain": [
       "                                      title      issued    modified  \\\n",
       "count                                 24356       24356       24356   \n",
       "unique                                23654        2195        1244   \n",
       "top     Gazetteer of Planetary Nomenclature  2018-06-26  2018-07-19   \n",
       "freq                                     81        2923       13488   \n",
       "\n",
       "           description  \n",
       "count            24289  \n",
       "unique           21348  \n",
       "top     not applicable  \n",
       "freq               265  "
      ]
     },
     "execution_count": 21,
     "metadata": {},
     "output_type": "execute_result"
    }
   ],
   "source": [
    "data.describe()"
   ]
  },
  {
   "cell_type": "code",
   "execution_count": 22,
   "metadata": {},
   "outputs": [
    {
     "name": "stdout",
     "output_type": "stream",
     "text": [
      "Title contains N/A? [False]\n",
      "Issued contains N/A? [False]\n",
      "Modified contains N/A? [False]\n",
      "Description contains N/A? [False  True]\n"
     ]
    }
   ],
   "source": [
    "print(\"Title contains N/A?\",data.title.isna().unique())\n",
    "print(\"Issued contains N/A?\",data.issued.isna().unique())\n",
    "print(\"Modified contains N/A?\",data.modified.isna().unique())\n",
    "print(\"Description contains N/A?\",data.description.isna().unique())"
   ]
  },
  {
   "cell_type": "code",
   "execution_count": 23,
   "metadata": {},
   "outputs": [
    {
     "name": "stdout",
     "output_type": "stream",
     "text": [
      "Entries in title 24356\n",
      "Unique entries in title 23654\n"
     ]
    }
   ],
   "source": [
    "print(\"Entries in title\", len(data.title))\n",
    "print(\"Unique entries in title\", len(data.title.unique()))"
   ]
  },
  {
   "cell_type": "code",
   "execution_count": null,
   "metadata": {},
   "outputs": [],
   "source": []
  }
 ],
 "metadata": {
  "kernelspec": {
   "display_name": "Python 3",
   "language": "python",
   "name": "python3"
  },
  "language_info": {
   "codemirror_mode": {
    "name": "ipython",
    "version": 3
   },
   "file_extension": ".py",
   "mimetype": "text/x-python",
   "name": "python",
   "nbconvert_exporter": "python",
   "pygments_lexer": "ipython3",
   "version": "3.7.4"
  }
 },
 "nbformat": 4,
 "nbformat_minor": 2
}
